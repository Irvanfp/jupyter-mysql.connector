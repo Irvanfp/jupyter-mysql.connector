{
 "cells": [
  {
   "cell_type": "code",
   "execution_count": null,
   "metadata": {},
   "outputs": [],
   "source": [
    "!pip3 install matplotlib pandas numpy mysql-connector-python-rf"
   ]
  },
  {
   "cell_type": "code",
   "execution_count": 1,
   "metadata": {},
   "outputs": [],
   "source": [
    "import os\n",
    "import pandas as pd\n",
    "import mysql.connector"
   ]
  },
  {
   "cell_type": "code",
   "execution_count": 2,
   "metadata": {},
   "outputs": [],
   "source": [
    "username = os.environ.get('DB_USER')\n",
    "password = os.environ.get('DB_PASS')"
   ]
  },
  {
   "cell_type": "code",
   "execution_count": 3,
   "metadata": {},
   "outputs": [
    {
     "output_type": "execute_result",
     "data": {
      "text/plain": [
       "<mysql.connector.connection.MySQLConnection at 0x7fc1bb57d1d0>"
      ]
     },
     "metadata": {},
     "execution_count": 3
    }
   ],
   "source": [
    "connection = mysql.connector.connect(host='localhost', user=username, passwd=password, db='employees',auth_plugin='mysql_native_password')\n",
    "connection"
   ]
  },
  {
   "cell_type": "code",
   "execution_count": 4,
   "metadata": {
    "scrolled": false
   },
   "outputs": [
    {
     "output_type": "stream",
     "name": "stdout",
     "text": [
      "current_dept_emp ========================= \n        Field        Type Null Key Default Extra\n0     emp_no      b'int'   NO  []    None      \n1    dept_no  b'char(4)'   NO  []    None      \n2  from_date     b'date'  YES  []    None      \n3    to_date     b'date'  YES  []    None       \n \n\ndepartments ========================= \n        Field            Type Null           Key Default Extra\n0    dept_no      b'char(4)'   NO  [80, 82, 73]    None      \n1  dept_name  b'varchar(40)'   NO  [85, 78, 73]    None       \n \n\ndept_emp ========================= \n        Field        Type Null           Key Default Extra\n0     emp_no      b'int'   NO  [80, 82, 73]    None      \n1    dept_no  b'char(4)'   NO  [80, 82, 73]    None      \n2  from_date     b'date'   NO            []    None      \n3    to_date     b'date'   NO            []    None       \n \n\ndept_emp_latest_date ========================= \n        Field     Type Null Key Default Extra\n0     emp_no   b'int'   NO  []    None      \n1  from_date  b'date'  YES  []    None      \n2    to_date  b'date'  YES  []    None       \n \n\ndept_manager ========================= \n        Field        Type Null           Key Default Extra\n0     emp_no      b'int'   NO  [80, 82, 73]    None      \n1    dept_no  b'char(4)'   NO  [80, 82, 73]    None      \n2  from_date     b'date'   NO            []    None      \n3    to_date     b'date'   NO            []    None       \n \n\nemployees ========================= \n         Field              Type Null           Key Default Extra\n0      emp_no            b'int'   NO  [80, 82, 73]    None      \n1  birth_date           b'date'   NO            []    None      \n2  first_name    b'varchar(14)'   NO            []    None      \n3   last_name    b'varchar(16)'   NO            []    None      \n4      gender  b\"enum('M','F')\"   NO            []    None      \n5   hire_date           b'date'   NO            []    None       \n \n\nsalaries ========================= \n        Field     Type Null           Key Default Extra\n0     emp_no   b'int'   NO  [80, 82, 73]    None      \n1     salary   b'int'   NO            []    None      \n2  from_date  b'date'   NO  [80, 82, 73]    None      \n3    to_date  b'date'   NO            []    None       \n \n\ntitles ========================= \n        Field            Type Null           Key Default Extra\n0     emp_no          b'int'   NO  [80, 82, 73]    None      \n1      title  b'varchar(50)'   NO  [80, 82, 73]    None      \n2  from_date         b'date'   NO  [80, 82, 73]    None      \n3    to_date         b'date'  YES            []    None       \n \n\n"
     ]
    }
   ],
   "source": [
    "source_table = pd.read_sql('SHOW Tables FROM employees', connection)\n",
    "source_table\n",
    "for row in source_table['Tables_in_employees']:\n",
    "    table_name = row.decode()\n",
    "    details = pd.read_sql('desc {}'.format(table_name),connection)\n",
    "    print(table_name, '=========================','\\n', details, '\\n', '\\n')\n"
   ]
  },
  {
   "cell_type": "code",
   "execution_count": 5,
   "metadata": {
    "scrolled": false
   },
   "outputs": [
    {
     "output_type": "execute_result",
     "data": {
      "text/plain": [
       "                title first_name       last_name gender  salary   hire_date\n",
       "0  Assistant Engineer  Jaroslava  Camarinopoulos      F   60929  1987-02-25\n",
       "1  Assistant Engineer       Arne         Kolinko      F   60929  1988-12-20\n",
       "2  Assistant Engineer    Gennadi         Sigstam      F   60929  1989-03-22\n",
       "3  Assistant Engineer   Thodoros          Cooley      M   60929  1987-06-14\n",
       "4  Assistant Engineer   Hercules      Castellani      M   60929  1988-09-11"
      ],
      "text/html": "<div>\n<style scoped>\n    .dataframe tbody tr th:only-of-type {\n        vertical-align: middle;\n    }\n\n    .dataframe tbody tr th {\n        vertical-align: top;\n    }\n\n    .dataframe thead th {\n        text-align: right;\n    }\n</style>\n<table border=\"1\" class=\"dataframe\">\n  <thead>\n    <tr style=\"text-align: right;\">\n      <th></th>\n      <th>title</th>\n      <th>first_name</th>\n      <th>last_name</th>\n      <th>gender</th>\n      <th>salary</th>\n      <th>hire_date</th>\n    </tr>\n  </thead>\n  <tbody>\n    <tr>\n      <th>0</th>\n      <td>Assistant Engineer</td>\n      <td>Jaroslava</td>\n      <td>Camarinopoulos</td>\n      <td>F</td>\n      <td>60929</td>\n      <td>1987-02-25</td>\n    </tr>\n    <tr>\n      <th>1</th>\n      <td>Assistant Engineer</td>\n      <td>Arne</td>\n      <td>Kolinko</td>\n      <td>F</td>\n      <td>60929</td>\n      <td>1988-12-20</td>\n    </tr>\n    <tr>\n      <th>2</th>\n      <td>Assistant Engineer</td>\n      <td>Gennadi</td>\n      <td>Sigstam</td>\n      <td>F</td>\n      <td>60929</td>\n      <td>1989-03-22</td>\n    </tr>\n    <tr>\n      <th>3</th>\n      <td>Assistant Engineer</td>\n      <td>Thodoros</td>\n      <td>Cooley</td>\n      <td>M</td>\n      <td>60929</td>\n      <td>1987-06-14</td>\n    </tr>\n    <tr>\n      <th>4</th>\n      <td>Assistant Engineer</td>\n      <td>Hercules</td>\n      <td>Castellani</td>\n      <td>M</td>\n      <td>60929</td>\n      <td>1988-09-11</td>\n    </tr>\n  </tbody>\n</table>\n</div>"
     },
     "metadata": {},
     "execution_count": 5
    }
   ],
   "source": [
    "titles = pd.read_sql('select title, first_name, last_name, gender, salary, hire_date FROM titles t \\\n",
    "left join employees as e on t.emp_no \\\n",
    "left join salaries as s on t.emp_no = s.emp_no limit 100', connection).head()\n",
    "titles "
   ]
  }
 ],
 "metadata": {
  "celltoolbar": "Raw Cell Format",
  "kernelspec": {
   "name": "pythonjvsc74a57bd067e1c8100bdc298526f11ab82fe25bd3a3703a8e1526ca2e9bee8fc2b0d7e353",
   "display_name": "Python 3.6.9  ('env2': venv)"
  },
  "language_info": {
   "codemirror_mode": {
    "name": "ipython",
    "version": 3
   },
   "file_extension": ".py",
   "mimetype": "text/x-python",
   "name": "python",
   "nbconvert_exporter": "python",
   "pygments_lexer": "ipython3",
   "version": "3.6.9"
  },
  "metadata": {
   "interpreter": {
    "hash": "67e1c8100bdc298526f11ab82fe25bd3a3703a8e1526ca2e9bee8fc2b0d7e353"
   }
  }
 },
 "nbformat": 4,
 "nbformat_minor": 2
}